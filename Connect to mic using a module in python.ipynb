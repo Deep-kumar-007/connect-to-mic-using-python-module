{
 "cells": [
  {
   "cell_type": "code",
   "execution_count": null,
   "id": "3eb05911",
   "metadata": {},
   "outputs": [
    {
     "name": "stdout",
     "output_type": "stream",
     "text": [
      "Listening...\n"
     ]
    }
   ],
   "source": [
    "import speech_recognition as sr\n",
    "import os\n",
    "\n",
    "recognizer = sr.Recognizer()\n",
    "\n",
    "def listen_and_execute():\n",
    "    try:\n",
    "        with sr.Microphone() as source:\n",
    "            print(\"Listening...\")\n",
    "            audio = recognizer.listen(source, timeout=5)\n",
    "            print(\"Recognizing...\")\n",
    "\n",
    "            recognized_text = recognizer.recognize_google(audio)\n",
    "\n",
    "            print(\"You said:\", recognized_text)\n",
    "\n",
    "            if \"open\" in recognized_text:\n",
    "                app_name = recognized_text.split(\"open \")\n",
    "                os.system(f\"start chrome \")  \n",
    "                print(f\"Opening chrome ...\")\n",
    "            elif \"run\" in recognized_text:\n",
    "                command = recognized_text.split(\"run \")[1]\n",
    "                os.system(command) \n",
    "            else:\n",
    "                print(\"Command not recognized.\")\n",
    "    except sr.UnknownValueError:\n",
    "        print(\"Could not understand audio\")\n",
    "    except sr.RequestError as e:\n",
    "        print(\"Could not request results; {0}\".format(e))\n",
    "\n",
    "if __name__ == \"__main__\":\n",
    "    listen_and_execute()"
   ]
  },
  {
   "cell_type": "code",
   "execution_count": null,
   "id": "e8c5adfc",
   "metadata": {},
   "outputs": [],
   "source": []
  },
  {
   "cell_type": "code",
   "execution_count": null,
   "id": "580db5e0",
   "metadata": {},
   "outputs": [],
   "source": []
  },
  {
   "cell_type": "code",
   "execution_count": null,
   "id": "10670e04",
   "metadata": {},
   "outputs": [],
   "source": []
  }
 ],
 "metadata": {
  "kernelspec": {
   "display_name": "Python 3 (ipykernel)",
   "language": "python",
   "name": "python3"
  },
  "language_info": {
   "codemirror_mode": {
    "name": "ipython",
    "version": 3
   },
   "file_extension": ".py",
   "mimetype": "text/x-python",
   "name": "python",
   "nbconvert_exporter": "python",
   "pygments_lexer": "ipython3",
   "version": "3.10.9"
  }
 },
 "nbformat": 4,
 "nbformat_minor": 5
}
